{
 "cells": [
  {
   "cell_type": "code",
   "execution_count": 1,
   "metadata": {},
   "outputs": [],
   "source": [
    "import pandas as pd\n",
    "from sentence_transformers import SentenceTransformer\n",
    "import faiss\n",
    "\n",
    "# Load your product dataset\n",
    "product_data = pd.read_csv(r\"C:\\Users\\shrut\\Downloads\\bigBasketProducts.csv\")\n",
    "\n",
    "# Extract relevant text columns\n",
    "text_columns = ['product', 'category', 'sub_category', 'brand', 'description']\n",
    "\n",
    "# Create a new column 'combined_text' with column names as prefixes\n",
    "product_data['combined_text'] = product_data[text_columns].apply(lambda row: ' '.join([f\"{col}:{value}\" for col, value in row.items()]), axis=1)\n",
    "\n",
    "# Assuming you have a unique identifier column\n",
    "unique_ids = product_data['index']\n",
    "\n",
    "# Load a pre-trained model (e.g., MiniLM for sentence embeddings)\n",
    "model = SentenceTransformer('paraphrase-MiniLM-L6-v2')\n",
    "\n",
    "# Create embeddings for your text data\n",
    "embeddings = model.encode(product_data['combined_text'].tolist())\n",
    "\n",
    "# Create an IndexFlatL2 index\n",
    "index = faiss.IndexFlatL2(embeddings.shape[1])\n",
    "\n",
    "# Add vectors to the index\n",
    "index.add(embeddings)\n",
    "\n",
    "# Save the index to a file\n",
    "faiss.write_index(index, 'product_index.faiss')\n"
   ]
  },
  {
   "cell_type": "code",
   "execution_count": 2,
   "metadata": {},
   "outputs": [
    {
     "name": "stdout",
     "output_type": "stream",
     "text": [
      "Answer: 11196                            Kama Diffuser Oil\n",
      "13682    Castor Carrier Oil - Pure Coldpressed Oil\n",
      "22190                          Nakshatra Pooja Oil\n",
      "16513                                    Pooja Oil\n",
      "18930                    Almond Oil - Cold Pressed\n",
      "Name: product, dtype: object 11196            Beauty & Hygiene\n",
      "13682            Beauty & Hygiene\n",
      "22190    Foodgrains, Oil & Masala\n",
      "16513    Foodgrains, Oil & Masala\n",
      "18930        Gourmet & World Food\n",
      "Name: category, dtype: object 11196             Skin Care\n",
      "13682             Skin Care\n",
      "22190    Edible Oils & Ghee\n",
      "16513    Edible Oils & Ghee\n",
      "18930        Oils & Vinegar\n",
      "Name: sub_category, dtype: object 11196                Omved\n",
      "13682    Morpheme Remedies\n",
      "22190             Mr. Gold\n",
      "16513              Anandam\n",
      "18930           Health 1st\n",
      "Name: brand, dtype: object 11196              Aromatherapy\n",
      "13682              Aromatherapy\n",
      "22190         Other Edible Oils\n",
      "16513         Other Edible Oils\n",
      "18930    Flavoured & Other Oils\n",
      "Name: type, dtype: object 11196    A potent evocative blend of Jasmine, Ylang Yla...\n",
      "13682    Morpheme Remedies Castor Oil is cold pressed f...\n",
      "22190    This oil is a unique blend of 5 oils with Suga...\n",
      "16513    This oil is a unique blend of 5 oils such as S...\n",
      "18930    Suitable for sautéing and medium heat cooking....\n",
      "Name: description, dtype: object\n"
     ]
    }
   ],
   "source": [
    "import pandas as pd\n",
    "from sentence_transformers import SentenceTransformer\n",
    "import faiss\n",
    "\n",
    "# Load your product dataset\n",
    "product_data = pd.read_csv(r\"C:\\Users\\shrut\\Downloads\\bigBasketProducts.csv\")\n",
    "\n",
    "# Load the index from a file\n",
    "index = faiss.read_index(\"product_index.faiss\")\n",
    "\n",
    "# Load a pre-trained model (e.g., DistilBERT)\n",
    "model = SentenceTransformer('paraphrase-MiniLM-L6-v2')  # You can choose another model\n",
    "\n",
    "# Define a custom question\n",
    "custom_question = \"Different types of oils?\"\n",
    "\n",
    "# Encode the custom question\n",
    "question_embedding = model.encode([custom_question])\n",
    "\n",
    "# Search for the nearest neighbors of the question vector\n",
    "k = 5  # Number of neighbors to retrieve\n",
    "_, neighbors = index.search(question_embedding, k)\n",
    "\n",
    "# Retrieve the details of the nearest neighbor\n",
    "neighbor_index = neighbors[0]\n",
    "neighbor_details = product_data.loc[neighbor_index]\n",
    "\n",
    "# Extract the relevant information for the answer\n",
    "context = f\"{neighbor_details['product']} {neighbor_details['category']} {neighbor_details['sub_category']} {neighbor_details['brand']} {neighbor_details['type']} {neighbor_details['description']}\"\n",
    "\n",
    "# Print the answer\n",
    "print(\"Answer:\", context)"
   ]
  },
  {
   "cell_type": "code",
   "execution_count": null,
   "metadata": {},
   "outputs": [],
   "source": []
  }
 ],
 "metadata": {
  "kernelspec": {
   "display_name": "Python 3",
   "language": "python",
   "name": "python3"
  },
  "language_info": {
   "codemirror_mode": {
    "name": "ipython",
    "version": 3
   },
   "file_extension": ".py",
   "mimetype": "text/x-python",
   "name": "python",
   "nbconvert_exporter": "python",
   "pygments_lexer": "ipython3",
   "version": "3.9.6"
  }
 },
 "nbformat": 4,
 "nbformat_minor": 2
}
